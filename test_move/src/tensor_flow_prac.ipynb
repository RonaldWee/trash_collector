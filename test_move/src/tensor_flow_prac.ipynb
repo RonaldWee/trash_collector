{
 "cells": [
  {
   "cell_type": "code",
   "execution_count": 24,
   "id": "46d840ff",
   "metadata": {},
   "outputs": [
    {
     "name": "stdout",
     "output_type": "stream",
     "text": [
      "2.9.0\n"
     ]
    },
    {
     "data": {
      "text/plain": [
       "[PhysicalDevice(name='/physical_device:CPU:0', device_type='CPU')]"
      ]
     },
     "execution_count": 24,
     "metadata": {},
     "output_type": "execute_result"
    }
   ],
   "source": [
    "import tensorflow as tf\n",
    "print(tf.__version__)\n",
    "tf.config.list_physical_devices()"
   ]
  },
  {
   "cell_type": "code",
   "execution_count": 25,
   "id": "511afc21",
   "metadata": {},
   "outputs": [
    {
     "data": {
      "text/plain": [
       "<tf.Tensor: shape=(), dtype=int32, numpy=7>"
      ]
     },
     "execution_count": 25,
     "metadata": {},
     "output_type": "execute_result"
    }
   ],
   "source": [
    "#Tensor - n-dimensional array of numbers\n",
    "\n",
    "#Creating a tensor (0 dimension - single number):\n",
    "tensor1 = tf.constant(7)\n",
    "tensor1"
   ]
  },
  {
   "cell_type": "code",
   "execution_count": 26,
   "id": "322dc1b7",
   "metadata": {},
   "outputs": [
    {
     "data": {
      "text/plain": [
       "<tf.Tensor: shape=(2,), dtype=int32, numpy=array([10, 10], dtype=int32)>"
      ]
     },
     "execution_count": 26,
     "metadata": {},
     "output_type": "execute_result"
    }
   ],
   "source": [
    "#Creating a vector (1 dimension - number with direction):\n",
    "vector = tf.constant([10,10])\n",
    "vector"
   ]
  },
  {
   "cell_type": "code",
   "execution_count": 27,
   "id": "2aefcce7",
   "metadata": {},
   "outputs": [
    {
     "data": {
      "text/plain": [
       "<tf.Tensor: shape=(2, 2), dtype=int32, numpy=\n",
       "array([[10,  7],\n",
       "       [ 7, 10]], dtype=int32)>"
      ]
     },
     "execution_count": 27,
     "metadata": {},
     "output_type": "execute_result"
    }
   ],
   "source": [
    "#Creating a matrix (more than 1 dimension):\n",
    "matrix = tf.constant([[10,7], [7,10]])\n",
    "matrix"
   ]
  },
  {
   "cell_type": "code",
   "execution_count": 29,
   "id": "3ee2acb9",
   "metadata": {},
   "outputs": [
    {
     "data": {
      "text/plain": [
       "<tf.Tensor: shape=(3, 2), dtype=float16, numpy=\n",
       "array([[10.,  7.],\n",
       "       [ 7., 10.],\n",
       "       [ 8.,  9.]], dtype=float16)>"
      ]
     },
     "execution_count": 29,
     "metadata": {},
     "output_type": "execute_result"
    }
   ],
   "source": [
    "#Creating a matrix with specified dtype:\n",
    "a_matrix = tf.constant([[10.,7.], [7.,10.], [8.,9.]], dtype = tf.float16)\n",
    "a_matrix"
   ]
  },
  {
   "cell_type": "code",
   "execution_count": 31,
   "id": "c2ab520f",
   "metadata": {},
   "outputs": [
    {
     "data": {
      "text/plain": [
       "<tf.Tensor: shape=(2, 3, 2), dtype=float16, numpy=\n",
       "array([[[10.,  7.],\n",
       "        [ 7., 10.],\n",
       "        [ 8.,  9.]],\n",
       "\n",
       "       [[10.,  7.],\n",
       "        [ 7., 10.],\n",
       "        [ 8.,  9.]]], dtype=float16)>"
      ]
     },
     "execution_count": 31,
     "metadata": {},
     "output_type": "execute_result"
    }
   ],
   "source": [
    "#Creating a matrix with specified dtype:\n",
    "a_matrix = tf.constant([[[10.,7.], [7.,10.], [8.,9.]], [[10.,7.], [7.,10.], [8.,9.]]], dtype = tf.float16)\n",
    "a_matrix"
   ]
  },
  {
   "cell_type": "code",
   "execution_count": 33,
   "id": "35a67210",
   "metadata": {},
   "outputs": [
    {
     "data": {
      "text/plain": [
       "<tf.Variable 'Variable:0' shape=(2,) dtype=int32, numpy=array([12,  6], dtype=int32)>"
      ]
     },
     "execution_count": 33,
     "metadata": {},
     "output_type": "execute_result"
    }
   ],
   "source": [
    "#Create variable tensors -- can change the values inside the tensor:\n",
    "tensor1V = tf.Variable([12,12])\n",
    "tensor1V[1].assign(6)\n",
    "tensor1V"
   ]
  },
  {
   "cell_type": "code",
   "execution_count": 38,
   "id": "aca25f73",
   "metadata": {},
   "outputs": [],
   "source": [
    "#Creating random tensors:\n",
    "random_1 = tf.random.Generator.from_seed(42)\n",
    "random_1 = random_1.normal(shape=(3,2))\n",
    "random_2 = tf.random.Generator.from_seed(42)\n",
    "random_2 = random_2.normal(shape=(3,2))"
   ]
  },
  {
   "cell_type": "code",
   "execution_count": 39,
   "id": "a533a273",
   "metadata": {},
   "outputs": [
    {
     "data": {
      "text/plain": [
       "<tf.Tensor: shape=(3, 2), dtype=bool, numpy=\n",
       "array([[ True,  True],\n",
       "       [ True,  True],\n",
       "       [ True,  True]])>"
      ]
     },
     "execution_count": 39,
     "metadata": {},
     "output_type": "execute_result"
    }
   ],
   "source": [
    "random_1 == random_2"
   ]
  },
  {
   "cell_type": "code",
   "execution_count": 46,
   "id": "05b02d54",
   "metadata": {},
   "outputs": [
    {
     "data": {
      "text/plain": [
       "<tf.Tensor: shape=(3, 2), dtype=float32, numpy=\n",
       "array([[-0.7565803 , -0.06854702],\n",
       "       [-0.23193763, -1.8107855 ],\n",
       "       [ 0.07595026, -1.2573844 ]], dtype=float32)>"
      ]
     },
     "execution_count": 46,
     "metadata": {},
     "output_type": "execute_result"
    }
   ],
   "source": [
    "#Shuffle a tensor (ie. Instead of training with 1000 ramen pics and then 100 hotdog pics in order\n",
    "#, should mix them up so that the model isnt as biased/more accurate)\n",
    "random_1\n",
    "\n",
    "tf.random.shuffle(random_1)"
   ]
  },
  {
   "cell_type": "code",
   "execution_count": 51,
   "id": "3b9f07d1",
   "metadata": {},
   "outputs": [
    {
     "name": "stdout",
     "output_type": "stream",
     "text": [
      "[ 1  2  3  4  5  6  7  8  9 10 11 12 13 14 15 16 17 18 19 20 21 22 23 24]\n",
      "tf.Tensor(\n",
      "[[[ 1  2  3  4]\n",
      "  [ 5  6  7  8]\n",
      "  [ 9 10 11 12]]\n",
      "\n",
      " [[13 14 15 16]\n",
      "  [17 18 19 20]\n",
      "  [21 22 23 24]]], shape=(2, 3, 4), dtype=int32)\n",
      "tf.Tensor(\n",
      "[[ 1  2  3  4]\n",
      " [ 5  6  7  8]\n",
      " [ 9 10 11 12]\n",
      " [13 14 15 16]\n",
      " [17 18 19 20]\n",
      " [21 22 23 24]], shape=(6, 4), dtype=int32)\n"
     ]
    }
   ],
   "source": [
    "#Convert numpy array into tensor (tensor can run on GPU):\n",
    "import numpy as np\n",
    "#Create numpy array\n",
    "numpy_A = np.arange(1,25, dtype =np.int32)\n",
    "\n",
    "print(numpy_A)\n",
    "\n",
    "#Convert to tensor, and change the shape\n",
    "A = tf.constant(numpy_A, shape = (2,3,4))\n",
    "print(A)\n",
    "\n",
    "B = tf.constant(numpy_A, shape = (6,4))\n",
    "print(B)"
   ]
  },
  {
   "cell_type": "code",
   "execution_count": 52,
   "id": "ec3043d8",
   "metadata": {},
   "outputs": [
    {
     "name": "stdout",
     "output_type": "stream",
     "text": [
      "Datatype of every element: <dtype: 'int32'>\n",
      "No. of dims (rank): 3\n",
      "Shape of tensor: (2, 3, 4)\n",
      "Elements along 0 axis: 2\n",
      "Elements along last axis: 4\n",
      "Total elements in tensor: tf.Tensor(24, shape=(), dtype=int32)\n",
      "Total elements in tensor: 24\n"
     ]
    }
   ],
   "source": [
    "#Tensor Key attributes:\n",
    "\n",
    "print(\"Datatype of every element:\", A.dtype)\n",
    "print(\"No. of dims (rank):\", A.ndim)\n",
    "print(\"Shape of tensor:\", A.shape)\n",
    "print(\"Elements along 0 axis:\", A.shape[0])\n",
    "print(\"Elements along last axis:\", A.shape[-1])\n",
    "print(\"Total elements in tensor:\", tf.size(A))\n",
    "print(\"Total elements in tensor:\", tf.size(A).numpy())"
   ]
  },
  {
   "cell_type": "code",
   "execution_count": 59,
   "id": "4d0bbf9d",
   "metadata": {},
   "outputs": [
    {
     "data": {
      "text/plain": [
       "<tf.Tensor: shape=(2, 2, 4), dtype=int32, numpy=\n",
       "array([[[ 1,  2,  3,  4],\n",
       "        [ 5,  6,  7,  8]],\n",
       "\n",
       "       [[13, 14, 15, 16],\n",
       "        [17, 18, 19, 20]]], dtype=int32)>"
      ]
     },
     "execution_count": 59,
     "metadata": {},
     "output_type": "execute_result"
    }
   ],
   "source": [
    "#Indexing the tensor:\n",
    "\n",
    "A[:2,:2,:4]"
   ]
  },
  {
   "cell_type": "code",
   "execution_count": 68,
   "id": "a6b5c382",
   "metadata": {},
   "outputs": [
    {
     "name": "stdout",
     "output_type": "stream",
     "text": [
      "tf.Tensor(\n",
      "[[[ 1  2  3  4]\n",
      "  [ 5  6  7  8]\n",
      "  [ 9 10 11 12]]\n",
      "\n",
      " [[13 14 15 16]\n",
      "  [17 18 19 20]\n",
      "  [21 22 23 24]]], shape=(2, 3, 4), dtype=int32)\n",
      "tf.Tensor(\n",
      "[[[[ 1  2  3  4]\n",
      "   [ 5  6  7  8]\n",
      "   [ 9 10 11 12]]]\n",
      "\n",
      "\n",
      " [[[13 14 15 16]\n",
      "   [17 18 19 20]\n",
      "   [21 22 23 24]]]], shape=(2, 1, 3, 4), dtype=int32)\n",
      "tf.Tensor(\n",
      "[[[[ 1  2  3  4]\n",
      "   [ 5  6  7  8]\n",
      "   [ 9 10 11 12]]]\n",
      "\n",
      "\n",
      " [[[13 14 15 16]\n",
      "   [17 18 19 20]\n",
      "   [21 22 23 24]]]], shape=(2, 1, 3, 4), dtype=int32)\n"
     ]
    }
   ],
   "source": [
    "#Expanding on tensor:\n",
    "print(A)\n",
    "new_A = A[:,tf.newaxis, :, :]\n",
    "print(new_A)\n",
    "\n",
    "#ALternative to tf.newaxis:\n",
    "tf.expand_dims(new_A, axis = -1) # -1 means expand final axis\n",
    "print(new_A)"
   ]
  },
  {
   "cell_type": "markdown",
   "id": "06266b91",
   "metadata": {},
   "source": [
    "# Matrix Multiplication"
   ]
  },
  {
   "cell_type": "code",
   "execution_count": 70,
   "id": "695a1b6b",
   "metadata": {},
   "outputs": [
    {
     "name": "stdout",
     "output_type": "stream",
     "text": [
      "tf.Tensor(\n",
      "[[[ 1  2  3  4]\n",
      "  [ 5  6  7  8]\n",
      "  [ 9 10 11 12]]\n",
      "\n",
      " [[13 14 15 16]\n",
      "  [17 18 19 20]\n",
      "  [21 22 23 24]]], shape=(2, 3, 4), dtype=int32)\n",
      "tf.Tensor(\n",
      "[[ 1  2  3  4  5  6]\n",
      " [ 7  8  9 10 11 12]\n",
      " [13 14 15 16 17 18]\n",
      " [19 20 21 22 23 24]], shape=(4, 6), dtype=int32)\n"
     ]
    },
    {
     "data": {
      "text/plain": [
       "<tf.Tensor: shape=(2, 3, 6), dtype=int32, numpy=\n",
       "array([[[ 130,  140,  150,  160,  170,  180],\n",
       "        [ 290,  316,  342,  368,  394,  420],\n",
       "        [ 450,  492,  534,  576,  618,  660]],\n",
       "\n",
       "       [[ 610,  668,  726,  784,  842,  900],\n",
       "        [ 770,  844,  918,  992, 1066, 1140],\n",
       "        [ 930, 1020, 1110, 1200, 1290, 1380]]], dtype=int32)>"
      ]
     },
     "execution_count": 70,
     "metadata": {},
     "output_type": "execute_result"
    }
   ],
   "source": [
    "#Dot Product\n",
    "\n",
    "C = tf.constant(numpy_A, shape = (2,3,4))\n",
    "print(C)\n",
    "\n",
    "D = tf.constant(numpy_A, shape = (4,6))\n",
    "print(D)\n",
    "\n",
    "tf.matmul(C,D)"
   ]
  },
  {
   "cell_type": "code",
   "execution_count": 87,
   "id": "5b8a4f52",
   "metadata": {},
   "outputs": [
    {
     "name": "stdout",
     "output_type": "stream",
     "text": [
      "tf.Tensor(\n",
      "[[[ 1]\n",
      "  [ 7]\n",
      "  [13]\n",
      "  [19]]\n",
      "\n",
      " [[ 2]\n",
      "  [ 8]\n",
      "  [14]\n",
      "  [20]]\n",
      "\n",
      " [[ 3]\n",
      "  [ 9]\n",
      "  [15]\n",
      "  [21]]\n",
      "\n",
      " [[ 4]\n",
      "  [10]\n",
      "  [16]\n",
      "  [22]]\n",
      "\n",
      " [[ 5]\n",
      "  [11]\n",
      "  [17]\n",
      "  [23]]\n",
      "\n",
      " [[ 6]\n",
      "  [12]\n",
      "  [18]\n",
      "  [24]]], shape=(6, 4, 1), dtype=int32)\n",
      "tf.Tensor(\n",
      "[[[ 1  2  3  4  5  6]\n",
      "  [ 7  8  9 10 11 12]\n",
      "  [13 14 15 16 17 18]\n",
      "  [19 20 21 22 23 24]]], shape=(1, 4, 6), dtype=int32)\n"
     ]
    },
    {
     "data": {
      "text/plain": [
       "<tf.Tensor: shape=(2, 3, 6), dtype=int32, numpy=\n",
       "array([[[ 130,  140,  150,  160,  170,  180],\n",
       "        [ 290,  316,  342,  368,  394,  420],\n",
       "        [ 450,  492,  534,  576,  618,  660]],\n",
       "\n",
       "       [[ 610,  668,  726,  784,  842,  900],\n",
       "        [ 770,  844,  918,  992, 1066, 1140],\n",
       "        [ 930, 1020, 1110, 1200, 1290, 1380]]], dtype=int32)>"
      ]
     },
     "execution_count": 87,
     "metadata": {},
     "output_type": "execute_result"
    }
   ],
   "source": [
    "#Note, can use transpose also, but the values are flipped\n",
    "print(tf.transpose(D))\n",
    "\n",
    "#Can use tf.reshape to change the shape of a tensor:\n",
    "D = tf.reshape(D,shape=(1,4,6))\n",
    "\n",
    "print(D)\n",
    "tf.matmul(C,D)"
   ]
  },
  {
   "cell_type": "code",
   "execution_count": 89,
   "id": "96963fa4",
   "metadata": {},
   "outputs": [
    {
     "data": {
      "text/plain": [
       "(<tf.Tensor: shape=(1, 4, 6), dtype=float16, numpy=\n",
       " array([[[ 1.,  2.,  3.,  4.,  5.,  6.],\n",
       "         [ 7.,  8.,  9., 10., 11., 12.],\n",
       "         [13., 14., 15., 16., 17., 18.],\n",
       "         [19., 20., 21., 22., 23., 24.]]], dtype=float16)>,\n",
       " tf.float16)"
      ]
     },
     "execution_count": 89,
     "metadata": {},
     "output_type": "execute_result"
    }
   ],
   "source": [
    "#Changing datatype of tensor:\n",
    "D = tf.cast(D, dtype=tf.float16)\n",
    "D, D.dtype"
   ]
  },
  {
   "cell_type": "code",
   "execution_count": 105,
   "id": "3c71dedd",
   "metadata": {},
   "outputs": [
    {
     "data": {
      "text/plain": [
       "<tf.Tensor: shape=(100,), dtype=int64, numpy=\n",
       "array([112,  33, 163, 140, 197,  55, 111, 157,  10, 146, 112, 109, 132,\n",
       "        90, 155,  83,  64, 129,  25, 114, 107, 191,  68,  73,  92,  97,\n",
       "        42,  37,  46, 122,  75,  80,  88, 175,  73,  98,  46,  73,  57,\n",
       "        12, 184,  16,  10, 160,  43, 173, 163,  26, 135, 172, 170,  15,\n",
       "       188, 101,  31, 160,  55,  36,  95, 187,   3, 190, 127, 144, 196,\n",
       "       184, 120,  45,   9, 113,  95,   4,  82,   9, 178, 114,  97, 175,\n",
       "        77,   7,  25, 116,  81,  36, 187,   1,  74,  37,  69, 181, 112,\n",
       "        92,   1, 102, 134, 187, 108,  88,  57, 145])>"
      ]
     },
     "execution_count": 105,
     "metadata": {},
     "output_type": "execute_result"
    }
   ],
   "source": [
    "#Aggregating of tensors:\n",
    "\n",
    "E = tf.constant(np.random.randint(0,200,size = 100))\n",
    "E"
   ]
  },
  {
   "cell_type": "code",
   "execution_count": 116,
   "id": "6595ce75",
   "metadata": {},
   "outputs": [
    {
     "name": "stdout",
     "output_type": "stream",
     "text": [
      "Sum: 1\n",
      "Max: 197\n",
      "Mean: 97\n",
      "Sum: 9711\n",
      "Variance: 3308\n",
      "Positional max index: 4\n",
      "Positional max value: 197\n",
      "Positional min index: 85\n",
      "Positional min value: 1\n",
      "tf.Tensor(\n",
      "[[[ 1  2  3  4]\n",
      "  [ 5  6  7  8]\n",
      "  [ 9 10 11 12]]\n",
      "\n",
      " [[13 14 15 16]\n",
      "  [17 18 19 20]\n",
      "  [21 22 23 24]]], shape=(2, 3, 4), dtype=int32)\n"
     ]
    },
    {
     "data": {
      "text/plain": [
       "<tf.Tensor: shape=(2, 2), dtype=float32, numpy=\n",
       "array([[0., 1.],\n",
       "       [0., 0.]], dtype=float32)>"
      ]
     },
     "execution_count": 116,
     "metadata": {},
     "output_type": "execute_result"
    }
   ],
   "source": [
    "#Find Minimum:\n",
    "print(\"Sum:\", tf.reduce_min(E).numpy())\n",
    "\n",
    "#Find Max:\n",
    "print(\"Max:\", tf.reduce_max(E).numpy())\n",
    "\n",
    "#Find mean:\n",
    "print(\"Mean:\",tf.reduce_mean(E).numpy())\n",
    "\n",
    "#Find sum:\n",
    "print(\"Sum:\",tf.reduce_sum(E).numpy())\n",
    "\n",
    "#Find Variance (theres a few diff ways to do it):\n",
    "import tensorflow_probability as tfp\n",
    "print(\"Variance:\", tfp.stats.variance(E).numpy())\n",
    "\n",
    "#Positional Maximum:\n",
    "print(\"Positional max index:\", tf.argmax(E).numpy())\n",
    "print(\"Positional max value:\", E[tf.argmax(E)].numpy())\n",
    "\n",
    "#Positional Minimum:\n",
    "print(\"Positional min index:\", tf.argmin(E).numpy())\n",
    "print(\"Positional min value:\", E[tf.argmin(E)].numpy())\n",
    "\n",
    "#Squeezing a tensor -- removing all 1 dimensions from tensor:\n",
    "numpy_0 = np.arange(1,25, dtype =np.int32)\n",
    "tensor0 = tf.constant(numpy_0, shape=(1,1,1,1,1,2,3,4))\n",
    "print(tf.squeeze(tensor0))\n",
    "\n",
    "#One-hot encoding tensors\n",
    "#List of indices\n",
    "A_list = [1,2]\n",
    "\n",
    "tf.one_hot(A_list, depth=2)"
   ]
  },
  {
   "cell_type": "code",
   "execution_count": 118,
   "id": "a933a98d",
   "metadata": {},
   "outputs": [
    {
     "data": {
      "text/plain": [
       "[]"
      ]
     },
     "execution_count": 118,
     "metadata": {},
     "output_type": "execute_result"
    }
   ],
   "source": [
    "tf.config.list_physical_devices('GPU')"
   ]
  },
  {
   "cell_type": "code",
   "execution_count": null,
   "id": "f5669eaa",
   "metadata": {},
   "outputs": [],
   "source": []
  }
 ],
 "metadata": {
  "kernelspec": {
   "display_name": "Python 3 (ipykernel)",
   "language": "python",
   "name": "python3"
  },
  "language_info": {
   "codemirror_mode": {
    "name": "ipython",
    "version": 3
   },
   "file_extension": ".py",
   "mimetype": "text/x-python",
   "name": "python",
   "nbconvert_exporter": "python",
   "pygments_lexer": "ipython3",
   "version": "3.8.10"
  }
 },
 "nbformat": 4,
 "nbformat_minor": 5
}
