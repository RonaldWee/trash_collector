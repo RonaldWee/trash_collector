{
 "cells": [
  {
   "cell_type": "code",
   "execution_count": 5,
   "id": "1b2bf629",
   "metadata": {},
   "outputs": [
    {
     "name": "stdout",
     "output_type": "stream",
     "text": [
      "2.9.0\n"
     ]
    },
    {
     "data": {
      "text/plain": [
       "[PhysicalDevice(name='/physical_device:CPU:0', device_type='CPU')]"
      ]
     },
     "execution_count": 5,
     "metadata": {},
     "output_type": "execute_result"
    }
   ],
   "source": [
    "import tensorflow as tf\n",
    "import helper_functions as hf\n",
    "print(tf.__version__)\n",
    "tf.config.list_physical_devices()"
   ]
  },
  {
   "cell_type": "code",
   "execution_count": 12,
   "id": "6a4c23d6",
   "metadata": {},
   "outputs": [
    {
     "name": "stdout",
     "output_type": "stream",
     "text": [
      "There are 6 directories and 0 images in 'data/archive/Garbage classification/Garbage classification'.\n",
      "There are 0 directories and 482 images in 'data/archive/Garbage classification/Garbage classification/plastic'.\n",
      "There are 0 directories and 403 images in 'data/archive/Garbage classification/Garbage classification/cardboard'.\n",
      "There are 0 directories and 410 images in 'data/archive/Garbage classification/Garbage classification/metal'.\n",
      "There are 0 directories and 137 images in 'data/archive/Garbage classification/Garbage classification/trash'.\n",
      "There are 0 directories and 594 images in 'data/archive/Garbage classification/Garbage classification/paper'.\n",
      "There are 0 directories and 501 images in 'data/archive/Garbage classification/Garbage classification/glass'.\n"
     ]
    }
   ],
   "source": [
    "pathName = \"data/archive/Garbage classification/Garbage classification\"\n",
    "hf.walk_through_dir(pathName)"
   ]
  },
  {
   "cell_type": "code",
   "execution_count": null,
   "id": "b57b2876",
   "metadata": {},
   "outputs": [],
   "source": []
  }
 ],
 "metadata": {
  "kernelspec": {
   "display_name": "Python 3 (ipykernel)",
   "language": "python",
   "name": "python3"
  },
  "language_info": {
   "codemirror_mode": {
    "name": "ipython",
    "version": 3
   },
   "file_extension": ".py",
   "mimetype": "text/x-python",
   "name": "python",
   "nbconvert_exporter": "python",
   "pygments_lexer": "ipython3",
   "version": "3.8.10"
  }
 },
 "nbformat": 4,
 "nbformat_minor": 5
}
